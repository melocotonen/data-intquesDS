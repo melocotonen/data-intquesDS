{
 "cells": [
  {
   "cell_type": "markdown",
   "metadata": {},
   "source": [
    "# Prueba técnica Data Science EVALUA"
   ]
  },
  {
   "cell_type": "markdown",
   "metadata": {},
   "source": [
    "La prueba está dividida en varios ejercicios rápidos que nos demostrarán tu manejo con pandas, datetime y numpy. Además en algunos de estos ejercicios deberás realizar visualizaciones que dejamos a tu elección el módulo a usar (plotly, matplot,seaborn...)"
   ]
  },
  {
   "cell_type": "markdown",
   "metadata": {},
   "source": [
    "## 1) Encuestas\n",
    "- Dataset: encuestas_DATA\n",
    "- Ejercicio: De la siguiente lista de encuestas, necesitamos conocer la diferencia entre la máxima puntuación total obtenida y la menor. La puntuación total es la suma de todas las puntuaciones."
   ]
  },
  {
   "cell_type": "code",
   "execution_count": null,
   "metadata": {},
   "outputs": [],
   "source": []
  },
  {
   "cell_type": "markdown",
   "metadata": {},
   "source": [
    "## 2) Facturación\n",
    "- Dataset: facturas_DATA\n",
    "- Ejercicio: Devuelve la lista de encargos que tengan facturas de tipo 2 y 3 para un mismo encargo. Además, indica la suma de importes por encargo"
   ]
  },
  {
   "cell_type": "code",
   "execution_count": null,
   "metadata": {},
   "outputs": [],
   "source": []
  },
  {
   "cell_type": "markdown",
   "metadata": {},
   "source": [
    "## 3) Emails duplicados\n",
    "- Dataset: emails_DATA\n",
    "- Ejercicio: Devuelve una lista de emails que estén duplicados y muestra de forma visual el número de emails duplicados y únicos. Puedes usar matplotlib, pyplot, seaborn o lo que prefieras."
   ]
  },
  {
   "cell_type": "code",
   "execution_count": null,
   "metadata": {},
   "outputs": [],
   "source": []
  },
  {
   "cell_type": "markdown",
   "metadata": {},
   "source": [
    "## 5) Visualizaciones\n",
    "\n",
    "Utilizando cualquiera de los datasets que se aportan para realizar visualizaciones que puedan aportar valor o que añadirías en un EDA."
   ]
  },
  {
   "cell_type": "code",
   "execution_count": null,
   "metadata": {},
   "outputs": [],
   "source": []
  }
 ],
 "metadata": {
  "kernelspec": {
   "display_name": "Python 3.9.7 ('base')",
   "language": "python",
   "name": "python3"
  },
  "language_info": {
   "codemirror_mode": {
    "name": "ipython",
    "version": 3
   },
   "file_extension": ".py",
   "mimetype": "text/x-python",
   "name": "python",
   "nbconvert_exporter": "python",
   "pygments_lexer": "ipython3",
   "version": "3.9.7"
  },
  "orig_nbformat": 4,
  "vscode": {
   "interpreter": {
    "hash": "ad2bdc8ecc057115af97d19610ffacc2b4e99fae6737bb82f5d7fb13d2f2c186"
   }
  }
 },
 "nbformat": 4,
 "nbformat_minor": 2
}
